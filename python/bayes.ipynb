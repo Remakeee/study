{
 "cells": [
  {
   "cell_type": "code",
   "execution_count": 1,
   "metadata": {},
   "outputs": [],
   "source": [
    "def loadDataSet():\n",
    "    postingList = [['my', 'dog', 'has', 'flea', 'problem', 'help', 'please'], \\\n",
    "                   ['maybe', 'not', 'take', 'him', 'to', 'dog', 'park', 'stupid'], \\\n",
    "                   ['my', 'dalmation', 'is', 'so', 'cute', 'I', 'love', 'him'], \\\n",
    "                   ['stop', 'posting', 'stupid', 'worthless', 'garbage'], \\\n",
    "                   ['mr', 'licks', 'ate', 'my', 'steak', 'how', 'to', 'stop', 'him'], \\\n",
    "                   ['quit', 'buying', 'worthless', 'dog', 'food', 'stupid']]\n",
    "    # 1 is abusive, 0 not\n",
    "    classVec = [0, 1, 0, 1, 0, 1]\n",
    "    return postingList, classVec\n",
    "\n",
    "def createVocabList(dataSet):\n",
    "    # create empty set\n",
    "    vocabSet = set([])\n",
    "    for document in dataSet:\n",
    "        # | is union\n",
    "        vocabSet = vocabSet | set(document)\n",
    "    return list(vocabSet)\n",
    "\n",
    "def setOfWords2Vec(vocabList, inputSet):\n",
    "    # create vector of all 0s\n",
    "    returnVec = [0] * len(vocabList)\n",
    "    for word in inputSet:\n",
    "        if word in vocabList:\n",
    "            # if word in vocabList, set to 1\n",
    "            returnVec[vocabList.index(word)] = 1\n",
    "        else:\n",
    "            print(\"the word: %s is not in my Vocabulary!\" % word)\n",
    "    return returnVec"
   ]
  },
  {
   "cell_type": "code",
   "execution_count": 2,
   "metadata": {},
   "outputs": [],
   "source": [
    "import numpy as np"
   ]
  },
  {
   "cell_type": "code",
   "execution_count": 3,
   "metadata": {},
   "outputs": [],
   "source": [
    "def trainNBO(trainMatrix, trainCategory):\n",
    "    # number of training docs\n",
    "    numTrainDocs = len(trainMatrix)\n",
    "    # number of words in each doc\n",
    "    numWords = len(trainMatrix[0])\n",
    "    # sum of all abusive docs\n",
    "    pAbusive = sum(trainCategory) / float(numTrainDocs)\n",
    "    # create vector of all 0s\n",
    "    p0Num = np.ones(numWords)\n",
    "    p1Num = np.ones(numWords)\n",
    "    # denominator\n",
    "    p0Denom = 2.0\n",
    "    p1Denom = 2.0\n",
    "    for i in range(numTrainDocs):\n",
    "        # if abusive\n",
    "        if trainCategory[i] == 1:\n",
    "            # add vector to p1Num\n",
    "            p1Num += trainMatrix[i]\n",
    "            # add number of words in doc to p1Denom\n",
    "            p1Denom += sum(trainMatrix[i])\n",
    "        else:\n",
    "            # add vector to p0Num\n",
    "            p0Num += trainMatrix[i]\n",
    "            # add number of words in doc to p0Denom\n",
    "            p0Denom += sum(trainMatrix[i])\n",
    "    # element-wise division\n",
    "    p1Vect = np.log(p1Num / p1Denom)\n",
    "    p0Vect = np.log(p0Num / p0Denom)\n",
    "    return p0Vect, p1Vect, pAbusive"
   ]
  },
  {
   "cell_type": "code",
   "execution_count": 6,
   "metadata": {},
   "outputs": [],
   "source": [
    "def classifyNB(vec2Classify, p0Vec, p1Vec, pClass1):\n",
    "    # element-wise multiplication\n",
    "    p1 = sum(vec2Classify * p1Vec) + np.log(pClass1)\n",
    "    p0 = sum(vec2Classify * p0Vec) + np.log(1 - pClass1)\n",
    "    # if p1 > p0\n",
    "    if p1 > p0:\n",
    "        return 1\n",
    "    else:\n",
    "        return 0\n",
    "    \n",
    "def testingNB():\n",
    "    listOPosts, listClasses = loadDataSet()\n",
    "    # create vocabulary list\n",
    "    myVocabList = createVocabList(listOPosts)\n",
    "    # create empty list\n",
    "    trainMat = []\n",
    "    # for each post in list of posts\n",
    "    for postinDoc in listOPosts:\n",
    "        # convert post to vector\n",
    "        trainMat.append(setOfWords2Vec(myVocabList, postinDoc))\n",
    "    # train classifier\n",
    "    p0V, p1V, pAb = trainNBO(np.array(trainMat), np.array(listClasses))\n",
    "    # test classifier\n",
    "    testEntry = ['love', 'my', 'dalmation']\n",
    "    # convert test entry to vector\n",
    "    thisDoc = np.array(setOfWords2Vec(myVocabList, testEntry))\n",
    "    # classify test entry\n",
    "    print(testEntry, 'classified as: ', classifyNB(thisDoc, p0V, p1V, pAb))\n",
    "    testEntry = ['stupid', 'garbage']\n",
    "    # convert test entry to vector\n",
    "    thisDoc = np.array(setOfWords2Vec(myVocabList, testEntry))\n",
    "    # classify test entry\n",
    "    print(testEntry, 'classified as: ', classifyNB(thisDoc, p0V, p1V, pAb))\n",
    "    "
   ]
  },
  {
   "cell_type": "code",
   "execution_count": 7,
   "metadata": {},
   "outputs": [
    {
     "name": "stdout",
     "output_type": "stream",
     "text": [
      "['love', 'my', 'dalmation'] classified as:  0\n",
      "['stupid', 'garbage'] classified as:  1\n"
     ]
    }
   ],
   "source": [
    "testingNB()"
   ]
  },
  {
   "cell_type": "code",
   "execution_count": null,
   "metadata": {},
   "outputs": [],
   "source": [
    "def bagOfWords2VecMN(vocabList, inputSet):\n",
    "    # create vector of all 0s\n",
    "    returnVec = [0] * len(vocabList)\n",
    "    for word in inputSet:\n",
    "        if word in vocabList:\n",
    "            # if word in vocabList, increment\n",
    "            returnVec[vocabList.index(word)] += 1\n",
    "    return returnVec"
   ]
  }
 ],
 "metadata": {
  "kernelspec": {
   "display_name": "Python 3 (ipykernel)",
   "language": "python",
   "name": "python3"
  },
  "language_info": {
   "codemirror_mode": {
    "name": "ipython",
    "version": 3
   },
   "file_extension": ".py",
   "mimetype": "text/x-python",
   "name": "python",
   "nbconvert_exporter": "python",
   "pygments_lexer": "ipython3",
   "version": "3.11.3"
  }
 },
 "nbformat": 4,
 "nbformat_minor": 2
}
